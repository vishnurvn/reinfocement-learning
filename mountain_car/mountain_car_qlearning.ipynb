{
 "cells": [
  {
   "cell_type": "code",
   "execution_count": 43,
   "metadata": {},
   "outputs": [],
   "source": [
    "import random\n",
    "\n",
    "import gym\n",
    "import numpy as np\n",
    "import torch\n",
    "import torch.nn as nn\n",
    "import torch.nn.functional as f\n",
    "import torch.optim as optim\n",
    "from torch.utils.data import Dataset, DataLoader, RandomSampler, SubsetRandomSampler"
   ]
  },
  {
   "cell_type": "code",
   "execution_count": 182,
   "metadata": {},
   "outputs": [],
   "source": [
    "env = gym.make('MountainCar-v0')\n",
    "\n",
    "ALPHA = 0.1\n",
    "BATCH_SIZE = 16\n",
    "TARGET_UPDATE = 10\n",
    "EPSILON = 0.2\n",
    "GAMMA = 0.9"
   ]
  },
  {
   "cell_type": "code",
   "execution_count": 221,
   "metadata": {},
   "outputs": [],
   "source": [
    "class LinearFunctionApproximator(nn.Module):\n",
    "    def __init__(self, state_size, action_size):\n",
    "        super(LinearFunctionApproximator, self).__init__()\n",
    "        init_tensor = nn.init.normal_(torch.empty(state_size, action_size))\n",
    "        self.params = nn.parameter.Parameter(init_tensor, requires_grad=True)\n",
    "        self.loss_func = nn.MSELoss()\n",
    "        self.optimizer = optim.SGD(self.parameters(), lr=ALPHA)\n",
    "        \n",
    "    def forward(self, state):\n",
    "        return torch.matmul(self.params.T, state)\n",
    "    \n",
    "    def compute_loss(self, inp, target):\n",
    "        self.optimizer.zero_grad()\n",
    "        loss = self.loss_func(inp, target)\n",
    "        loss.backward()\n",
    "        self.optimizer.step()\n",
    "        return loss.detach()"
   ]
  },
  {
   "cell_type": "code",
   "execution_count": 222,
   "metadata": {},
   "outputs": [],
   "source": [
    "class ReplayMemory:\n",
    "    def __init__(self, memory_size):\n",
    "        self.memory_size = memory_size\n",
    "        self.memory = []\n",
    "        \n",
    "    def __len__(self):\n",
    "        return len(self.memory)\n",
    "    \n",
    "    def __getitem__(self, item):\n",
    "        return self.memory[item]\n",
    "    \n",
    "    def sample(self, batch_size):\n",
    "        return random.sample(self.memory, batch_size)\n",
    "    \n",
    "    def push(self, *item):\n",
    "        if len(self) > self.memory_size:\n",
    "            self.memory.pop()\n",
    "        self.memory.append(item)"
   ]
  },
  {
   "cell_type": "code",
   "execution_count": 223,
   "metadata": {},
   "outputs": [],
   "source": [
    "def polynomial_coding(state):\n",
    "    pos, vel = state\n",
    "    return np.array([vel, pos * vel])"
   ]
  },
  {
   "cell_type": "code",
   "execution_count": 224,
   "metadata": {},
   "outputs": [],
   "source": [
    "def get_greedy_action(policy, state):\n",
    "    with torch.no_grad():\n",
    "        return policy(state).argmax().item()\n",
    "    \n",
    "    \n",
    "def get_epsilon_greedy_action(policy, state):\n",
    "    sample = np.random.uniform()\n",
    "    if sample < EPSILON:\n",
    "        action = get_greedy_action(policy, state)\n",
    "    else:\n",
    "        action = env.action_space.sample()\n",
    "    return action"
   ]
  },
  {
   "cell_type": "code",
   "execution_count": 236,
   "metadata": {},
   "outputs": [],
   "source": [
    "def optimize_policy(memory, policy, target_policy, criterion, optimizer):\n",
    "    sample = memory.sample(BATCH_SIZE)\n",
    "\n",
    "    actions = torch.cat([a[0] for a in sample], dim=0)\n",
    "    states = torch.cat([s[1] for s in sample])\n",
    "    reward = torch.cat([r[2] for r in sample])\n",
    "    next_states = torch.cat([ns[3] for ns in sample])\n",
    "    \n",
    "    state_actions = policy(states.T).T.gather(1, actions)\n",
    "    next_state_actions = target_policy(next_states.T).T.max(1)[0].detach()\n",
    "    \n",
    "    expected = reward + GAMMA * next_state_actions\n",
    "    \n",
    "    optimizer.zero_grad()\n",
    "    loss = criterion(state_actions.flatten(), expected)\n",
    "    loss.backward()\n",
    "    optimizer.step()"
   ]
  },
  {
   "cell_type": "code",
   "execution_count": 237,
   "metadata": {},
   "outputs": [],
   "source": [
    "memory = ReplayMemory(1000)\n",
    "policy = LinearFunctionApproximator(2, 3)\n",
    "target_policy = LinearFunctionApproximator(2, 3)\n",
    "target_policy.load_state_dict(policy.state_dict())\n",
    "target_policy.eval()\n",
    "\n",
    "criterion = nn.MSELoss()\n",
    "optimizer = optim.SGD(policy.parameters(), lr=0.1)\n",
    "n_episodes = 100\n",
    "finishing_ep = []\n",
    "\n",
    "for ep in range(n_episodes):\n",
    "    done = False\n",
    "    state = polynomial_coding(env.reset())\n",
    "    state = torch.tensor(state, dtype=torch.float)\n",
    "    while not done:\n",
    "        action = get_epsilon_greedy_action(policy, state)\n",
    "        next_state, reward, done, _ = env.step(action)\n",
    "        next_state = polynomial_coding(next_state)\n",
    "        memory.push(\n",
    "            torch.tensor([action]).unsqueeze(0),\n",
    "            state.unsqueeze(0), torch.tensor([reward]),\n",
    "            torch.tensor(next_state, dtype=torch.float).unsqueeze(0)\n",
    "        )\n",
    "        if reward == 0:\n",
    "            finishing_ep.append(ep)\n",
    "        \n",
    "        if len(memory) > BATCH_SIZE:\n",
    "            optimize_policy(memory, policy, target_policy, criterion, optimizer)\n",
    "        if ep % TARGET_UPDATE == 0:\n",
    "            target_policy.load_state_dict(policy.state_dict())"
   ]
  },
  {
   "cell_type": "code",
   "execution_count": 238,
   "metadata": {},
   "outputs": [
    {
     "data": {
      "text/plain": [
       "[]"
      ]
     },
     "execution_count": 238,
     "metadata": {},
     "output_type": "execute_result"
    }
   ],
   "source": [
    "finishing_ep"
   ]
  },
  {
   "cell_type": "code",
   "execution_count": 240,
   "metadata": {},
   "outputs": [],
   "source": [
    "done = False\n",
    "state = polynomial_coding(env.reset())\n",
    "state = torch.tensor(state, dtype=torch.float)\n",
    "\n",
    "with torch.no_grad():\n",
    "    while not done:\n",
    "        action = policy(state).argmax()\n",
    "        state, _, done, _ = env.step(action.item())\n",
    "        state = polynomial_coding(state)\n",
    "        state = torch.tensor(state, dtype=torch.float)\n",
    "        env.render()\n",
    "    env.close()"
   ]
  },
  {
   "cell_type": "code",
   "execution_count": 241,
   "metadata": {},
   "outputs": [
    {
     "data": {
      "text/plain": [
       "Parameter containing:\n",
       "tensor([[-0.1126, -1.4942,  1.8002],\n",
       "        [ 0.4350, -0.1616,  0.2305]], requires_grad=True)"
      ]
     },
     "execution_count": 241,
     "metadata": {},
     "output_type": "execute_result"
    }
   ],
   "source": [
    "policy.params"
   ]
  },
  {
   "cell_type": "code",
   "execution_count": null,
   "metadata": {},
   "outputs": [],
   "source": []
  }
 ],
 "metadata": {
  "kernelspec": {
   "display_name": "Python 3",
   "language": "python",
   "name": "python3"
  },
  "language_info": {
   "codemirror_mode": {
    "name": "ipython",
    "version": 3
   },
   "file_extension": ".py",
   "mimetype": "text/x-python",
   "name": "python",
   "nbconvert_exporter": "python",
   "pygments_lexer": "ipython3",
   "version": "3.8.4"
  }
 },
 "nbformat": 4,
 "nbformat_minor": 4
}
