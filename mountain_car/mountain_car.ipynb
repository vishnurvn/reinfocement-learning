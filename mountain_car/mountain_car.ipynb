{
 "cells": [
  {
   "cell_type": "code",
   "execution_count": 210,
   "metadata": {},
   "outputs": [],
   "source": [
    "import gym\n",
    "import numpy as np\n",
    "import matplotlib.pyplot as plt\n",
    "import torch\n",
    "import torch.nn as nn\n",
    "import torch.nn.functional as f\n",
    "import torch.optim as optim\n",
    "\n",
    "\n",
    "env = gym.make('MountainCar-v0')"
   ]
  },
  {
   "cell_type": "code",
   "execution_count": 138,
   "metadata": {},
   "outputs": [],
   "source": [
    "action_space = env.action_space.n\n",
    "obs_space = env.observation_space.shape[0]\n",
    "weights = np.random.randn(obs_space, action_space)"
   ]
  },
  {
   "cell_type": "code",
   "execution_count": 305,
   "metadata": {},
   "outputs": [],
   "source": [
    "ALPHA = 0.1\n",
    "GAMMA = 0.9\n",
    "EPSILON = 0.5\n",
    "\n",
    "\n",
    "def get_polynomial_encoding(state):\n",
    "    s1, s2 = state\n",
    "    return np.array([1, s1, s2, s1*s2])\n",
    "\n",
    "\n",
    "class LinearFunctionApproximator(nn.Module):\n",
    "    def __init__(self, state_size, action_size):\n",
    "        super(LinearFunctionApproximator, self).__init__()\n",
    "        init_tensor = nn.init.normal_(torch.empty(state_size, action_size))\n",
    "        self.params = nn.parameter.Parameter(init_tensor, requires_grad=True)\n",
    "        self.loss_func = nn.MSELoss()\n",
    "        self.optimizer = optim.SGD(self.parameters(), lr=ALPHA)\n",
    "        \n",
    "    def forward(self, state):\n",
    "        return torch.matmul(self.params.T, state)\n",
    "    \n",
    "    def compute_loss(self, inp, target):\n",
    "        self.optimizer.zero_grad()\n",
    "        loss = self.loss_func(inp, target)\n",
    "        loss.backward()\n",
    "        self.optimizer.step()\n",
    "        return loss.detach()\n",
    "\n",
    "\n",
    "class SARSA:\n",
    "    def __init__(self, env, epsilon, approximator, test=False):\n",
    "        self.env = env\n",
    "        self.episodes = []\n",
    "        self.rewards = []\n",
    "        self.test = test\n",
    "        self.epsilon = epsilon\n",
    "        self.current_eps = self.epsilon\n",
    "        self.approximator = approximator\n",
    "        self.action_space = []\n",
    "        \n",
    "    def get_greedy_action(self, state):\n",
    "        with torch.no_grad():\n",
    "            return self.approximator(state).argmax().item()\n",
    "        \n",
    "    def get_epsilon_greedy_action(self, state):\n",
    "        sample = np.random.uniform()\n",
    "        action = None\n",
    "        if sample < self.current_eps:\n",
    "            action = self.get_greedy_action(state)\n",
    "        else:\n",
    "            action = env.action_space.sample()\n",
    "        self.action_space.append(action)\n",
    "        return action\n",
    "        \n",
    "    def decay_epsilon(self, ep, n_ep):\n",
    "        self.current_eps = self.epsilon * 1/(1+np.exp(16*ep/n_ep - 9))\n",
    "        \n",
    "    def test_agent(self, n_episodes):\n",
    "        for ep in n_episodes:\n",
    "            done = False\n",
    "            state = self.env.reset()\n",
    "            while not done:\n",
    "                action = self.get_greedy_action(state)\n",
    "                state, reward, done, _ = self.env.step(action)\n",
    "            env.close()\n",
    "    \n",
    "    def optimize_agent(self, n_episodes):\n",
    "        for ep in range(n_episodes):\n",
    "            state = torch.tensor(env.reset(), dtype=torch.float)\n",
    "            done = False\n",
    "            ep_reward = 0\n",
    "            while not done:\n",
    "                action = self.get_epsilon_greedy_action(state)\n",
    "                state_action = self.approximator(state)\n",
    "                \n",
    "                next_state, reward, done, _ = env.step(action)\n",
    "                next_state = torch.tensor(next_state, dtype=torch.float)\n",
    "                \n",
    "                next_action = self.get_epsilon_greedy_action(next_state)\n",
    "                with torch.no_grad():\n",
    "                    next_state_action = self.approximator(next_state)\n",
    "                    \n",
    "                inp = state_action[action]\n",
    "                target = reward + next_state_action[next_action] * GAMMA\n",
    "                self.approximator.compute_loss(inp, target)\n",
    "                state, action = next_state, next_action\n",
    "                \n",
    "                ep_reward += reward\n",
    "            self.episodes.append(ep)\n",
    "            self.rewards.append(ep_reward)\n",
    "            self.decay_epsilon(ep, n_episodes)\n",
    "                \n",
    "    def play_agent(self):\n",
    "        done = False\n",
    "        state = torch.tensor(self.env.reset(), dtype=torch.float)\n",
    "        while not done:\n",
    "            action = self.get_greedy_action(state)\n",
    "            state, reward, done, _ = self.env.step(action)\n",
    "            state = torch.tensor(state, dtype=torch.float)\n",
    "            self.env.render()\n",
    "        self.env.close()"
   ]
  },
  {
   "cell_type": "code",
   "execution_count": 306,
   "metadata": {},
   "outputs": [],
   "source": [
    "lin = LinearFunctionApproximator(2, 3)\n",
    "sarsa = SARSA(env, EPSILON, lin)"
   ]
  },
  {
   "cell_type": "code",
   "execution_count": 307,
   "metadata": {},
   "outputs": [],
   "source": [
    "sarsa.optimize_agent(1000)"
   ]
  },
  {
   "cell_type": "code",
   "execution_count": 301,
   "metadata": {},
   "outputs": [],
   "source": [
    "from collections import Counter"
   ]
  },
  {
   "cell_type": "code",
   "execution_count": 310,
   "metadata": {},
   "outputs": [
    {
     "data": {
      "text/plain": [
       "Counter({2: 135024, 0: 108634, 1: 156342})"
      ]
     },
     "execution_count": 310,
     "metadata": {},
     "output_type": "execute_result"
    }
   ],
   "source": [
    "Counter(sarsa.action_space)"
   ]
  },
  {
   "cell_type": "code",
   "execution_count": 308,
   "metadata": {},
   "outputs": [],
   "source": [
    "sarsa.play_agent()"
   ]
  },
  {
   "cell_type": "code",
   "execution_count": 309,
   "metadata": {},
   "outputs": [
    {
     "data": {
      "text/plain": [
       "Parameter containing:\n",
       "tensor([[18.6097, 18.6131, 18.5350],\n",
       "        [ 9.1566, 11.1306, 10.4940]], requires_grad=True)"
      ]
     },
     "execution_count": 309,
     "metadata": {},
     "output_type": "execute_result"
    }
   ],
   "source": [
    "sarsa.approximator.params"
   ]
  },
  {
   "cell_type": "code",
   "execution_count": null,
   "metadata": {},
   "outputs": [],
   "source": []
  }
 ],
 "metadata": {
  "kernelspec": {
   "display_name": "Python 3",
   "language": "python",
   "name": "python3"
  },
  "language_info": {
   "codemirror_mode": {
    "name": "ipython",
    "version": 3
   },
   "file_extension": ".py",
   "mimetype": "text/x-python",
   "name": "python",
   "nbconvert_exporter": "python",
   "pygments_lexer": "ipython3",
   "version": "3.8.4"
  }
 },
 "nbformat": 4,
 "nbformat_minor": 4
}
